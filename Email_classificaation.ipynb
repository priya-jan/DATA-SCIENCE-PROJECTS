{
  "cells": [
    {
      "cell_type": "markdown",
      "metadata": {
        "id": "view-in-github",
        "colab_type": "text"
      },
      "source": [
        "<a href=\"https://colab.research.google.com/github/priya-jan/DATA-SCIENCE-PROJECTS/blob/main/Email_classificaation.ipynb\" target=\"_parent\"><img src=\"https://colab.research.google.com/assets/colab-badge.svg\" alt=\"Open In Colab\"/></a>"
      ]
    },
    {
      "cell_type": "code",
      "execution_count": null,
      "metadata": {
        "id": "XpkkF_TUQwSU"
      },
      "outputs": [],
      "source": [
        "import pandas as pd\n",
        "import numpy as np\n",
        "from sklearn.model_selection import train_test_split \n",
        "from sklearn.feature_extraction.text import TfidfVectorizer\n",
        "from sklearn.linear_model import LogisticRegression\n",
        "from sklearn.metrics import accuracy_score"
      ]
    },
    {
      "cell_type": "code",
      "execution_count": null,
      "metadata": {
        "id": "_YHtVKIySJRa"
      },
      "outputs": [],
      "source": [
        "raw_mail_data=pd.read_csv('/content/drive/MyDrive/spamham.csv')\n"
      ]
    },
    {
      "cell_type": "code",
      "execution_count": null,
      "metadata": {
        "colab": {
          "base_uri": "https://localhost:8080/"
        },
        "id": "TNKGY8rcUDuy",
        "outputId": "77deaa0c-b558-44e0-eddb-e1a9558e1573"
      },
      "outputs": [
        {
          "output_type": "stream",
          "name": "stdout",
          "text": [
            "                                                   Text  Class Label\n",
            "0     Supply Quality China's EXCLUSIVE dimensions at...      1  spam\n",
            "1                            over. SidLet me know. Thx.      0   ham\n",
            "2     Dear Friend,Greetings to you.I wish to accost ...      1  spam\n",
            "3     MR. CHEUNG PUIHANG SENG BANK LTD.DES VOEUX RD....      1  spam\n",
            "4             Not a surprising assessment from Embassy.      0   ham\n",
            "...                                                 ...    ...   ...\n",
            "4840  It has been prepared- ready for your signature...      0   ham\n",
            "4841                                     And to you too      0   ham\n",
            "4842   <html><head><style>P{margin:0px;padding:0px}body      1  spam\n",
            "4843  Robinson talking now voice cracking but resolu...      0   ham\n",
            "4844  PIR <preines(Wednesday February 10 2010 1:16 P...      0   ham\n",
            "\n",
            "[4845 rows x 3 columns]\n"
          ]
        }
      ],
      "source": [
        "print(raw_mail_data)"
      ]
    },
    {
      "cell_type": "code",
      "execution_count": null,
      "metadata": {
        "id": "BGzuxfpEUK0v"
      },
      "outputs": [],
      "source": [
        "# replace the null value with null string\n",
        "mail_data=raw_mail_data.where((pd.notnull(raw_mail_data)),'')"
      ]
    },
    {
      "cell_type": "code",
      "execution_count": null,
      "metadata": {
        "colab": {
          "base_uri": "https://localhost:8080/",
          "height": 206
        },
        "id": "aIETmGgPVSBn",
        "outputId": "0620ac6e-153d-4b80-90a7-b7b5cd3c4e30"
      },
      "outputs": [
        {
          "output_type": "execute_result",
          "data": {
            "text/plain": [
              "                                                Text  Class Label\n",
              "0  Supply Quality China's EXCLUSIVE dimensions at...      1  spam\n",
              "1                         over. SidLet me know. Thx.      0   ham\n",
              "2  Dear Friend,Greetings to you.I wish to accost ...      1  spam\n",
              "3  MR. CHEUNG PUIHANG SENG BANK LTD.DES VOEUX RD....      1  spam\n",
              "4          Not a surprising assessment from Embassy.      0   ham"
            ],
            "text/html": [
              "\n",
              "  <div id=\"df-363bc20f-7e65-46ce-a5a2-8150e46a46e4\">\n",
              "    <div class=\"colab-df-container\">\n",
              "      <div>\n",
              "<style scoped>\n",
              "    .dataframe tbody tr th:only-of-type {\n",
              "        vertical-align: middle;\n",
              "    }\n",
              "\n",
              "    .dataframe tbody tr th {\n",
              "        vertical-align: top;\n",
              "    }\n",
              "\n",
              "    .dataframe thead th {\n",
              "        text-align: right;\n",
              "    }\n",
              "</style>\n",
              "<table border=\"1\" class=\"dataframe\">\n",
              "  <thead>\n",
              "    <tr style=\"text-align: right;\">\n",
              "      <th></th>\n",
              "      <th>Text</th>\n",
              "      <th>Class</th>\n",
              "      <th>Label</th>\n",
              "    </tr>\n",
              "  </thead>\n",
              "  <tbody>\n",
              "    <tr>\n",
              "      <th>0</th>\n",
              "      <td>Supply Quality China's EXCLUSIVE dimensions at...</td>\n",
              "      <td>1</td>\n",
              "      <td>spam</td>\n",
              "    </tr>\n",
              "    <tr>\n",
              "      <th>1</th>\n",
              "      <td>over. SidLet me know. Thx.</td>\n",
              "      <td>0</td>\n",
              "      <td>ham</td>\n",
              "    </tr>\n",
              "    <tr>\n",
              "      <th>2</th>\n",
              "      <td>Dear Friend,Greetings to you.I wish to accost ...</td>\n",
              "      <td>1</td>\n",
              "      <td>spam</td>\n",
              "    </tr>\n",
              "    <tr>\n",
              "      <th>3</th>\n",
              "      <td>MR. CHEUNG PUIHANG SENG BANK LTD.DES VOEUX RD....</td>\n",
              "      <td>1</td>\n",
              "      <td>spam</td>\n",
              "    </tr>\n",
              "    <tr>\n",
              "      <th>4</th>\n",
              "      <td>Not a surprising assessment from Embassy.</td>\n",
              "      <td>0</td>\n",
              "      <td>ham</td>\n",
              "    </tr>\n",
              "  </tbody>\n",
              "</table>\n",
              "</div>\n",
              "      <button class=\"colab-df-convert\" onclick=\"convertToInteractive('df-363bc20f-7e65-46ce-a5a2-8150e46a46e4')\"\n",
              "              title=\"Convert this dataframe to an interactive table.\"\n",
              "              style=\"display:none;\">\n",
              "        \n",
              "  <svg xmlns=\"http://www.w3.org/2000/svg\" height=\"24px\"viewBox=\"0 0 24 24\"\n",
              "       width=\"24px\">\n",
              "    <path d=\"M0 0h24v24H0V0z\" fill=\"none\"/>\n",
              "    <path d=\"M18.56 5.44l.94 2.06.94-2.06 2.06-.94-2.06-.94-.94-2.06-.94 2.06-2.06.94zm-11 1L8.5 8.5l.94-2.06 2.06-.94-2.06-.94L8.5 2.5l-.94 2.06-2.06.94zm10 10l.94 2.06.94-2.06 2.06-.94-2.06-.94-.94-2.06-.94 2.06-2.06.94z\"/><path d=\"M17.41 7.96l-1.37-1.37c-.4-.4-.92-.59-1.43-.59-.52 0-1.04.2-1.43.59L10.3 9.45l-7.72 7.72c-.78.78-.78 2.05 0 2.83L4 21.41c.39.39.9.59 1.41.59.51 0 1.02-.2 1.41-.59l7.78-7.78 2.81-2.81c.8-.78.8-2.07 0-2.86zM5.41 20L4 18.59l7.72-7.72 1.47 1.35L5.41 20z\"/>\n",
              "  </svg>\n",
              "      </button>\n",
              "      \n",
              "  <style>\n",
              "    .colab-df-container {\n",
              "      display:flex;\n",
              "      flex-wrap:wrap;\n",
              "      gap: 12px;\n",
              "    }\n",
              "\n",
              "    .colab-df-convert {\n",
              "      background-color: #E8F0FE;\n",
              "      border: none;\n",
              "      border-radius: 50%;\n",
              "      cursor: pointer;\n",
              "      display: none;\n",
              "      fill: #1967D2;\n",
              "      height: 32px;\n",
              "      padding: 0 0 0 0;\n",
              "      width: 32px;\n",
              "    }\n",
              "\n",
              "    .colab-df-convert:hover {\n",
              "      background-color: #E2EBFA;\n",
              "      box-shadow: 0px 1px 2px rgba(60, 64, 67, 0.3), 0px 1px 3px 1px rgba(60, 64, 67, 0.15);\n",
              "      fill: #174EA6;\n",
              "    }\n",
              "\n",
              "    [theme=dark] .colab-df-convert {\n",
              "      background-color: #3B4455;\n",
              "      fill: #D2E3FC;\n",
              "    }\n",
              "\n",
              "    [theme=dark] .colab-df-convert:hover {\n",
              "      background-color: #434B5C;\n",
              "      box-shadow: 0px 1px 3px 1px rgba(0, 0, 0, 0.15);\n",
              "      filter: drop-shadow(0px 1px 2px rgba(0, 0, 0, 0.3));\n",
              "      fill: #FFFFFF;\n",
              "    }\n",
              "  </style>\n",
              "\n",
              "      <script>\n",
              "        const buttonEl =\n",
              "          document.querySelector('#df-363bc20f-7e65-46ce-a5a2-8150e46a46e4 button.colab-df-convert');\n",
              "        buttonEl.style.display =\n",
              "          google.colab.kernel.accessAllowed ? 'block' : 'none';\n",
              "\n",
              "        async function convertToInteractive(key) {\n",
              "          const element = document.querySelector('#df-363bc20f-7e65-46ce-a5a2-8150e46a46e4');\n",
              "          const dataTable =\n",
              "            await google.colab.kernel.invokeFunction('convertToInteractive',\n",
              "                                                     [key], {});\n",
              "          if (!dataTable) return;\n",
              "\n",
              "          const docLinkHtml = 'Like what you see? Visit the ' +\n",
              "            '<a target=\"_blank\" href=https://colab.research.google.com/notebooks/data_table.ipynb>data table notebook</a>'\n",
              "            + ' to learn more about interactive tables.';\n",
              "          element.innerHTML = '';\n",
              "          dataTable['output_type'] = 'display_data';\n",
              "          await google.colab.output.renderOutput(dataTable, element);\n",
              "          const docLink = document.createElement('div');\n",
              "          docLink.innerHTML = docLinkHtml;\n",
              "          element.appendChild(docLink);\n",
              "        }\n",
              "      </script>\n",
              "    </div>\n",
              "  </div>\n",
              "  "
            ]
          },
          "metadata": {},
          "execution_count": 5
        }
      ],
      "source": [
        "# printing first five row of dtataframe\n",
        "mail_data.head()"
      ]
    },
    {
      "cell_type": "code",
      "execution_count": null,
      "metadata": {
        "id": "x5yjd1HwVjck",
        "colab": {
          "base_uri": "https://localhost:8080/"
        },
        "outputId": "14205be2-9c57-4bc1-d7cb-0e8ef6a8b7ec"
      },
      "outputs": [
        {
          "output_type": "execute_result",
          "data": {
            "text/plain": [
              "(4845, 3)"
            ]
          },
          "metadata": {},
          "execution_count": 6
        }
      ],
      "source": [
        "mail_data.shape"
      ]
    },
    {
      "cell_type": "code",
      "source": [
        "# seprating the data as text and label\n",
        "x=mail_data['Text']\n",
        "y=mail_data['Class']\n",
        "print(x)\n",
        "print(y)"
      ],
      "metadata": {
        "colab": {
          "base_uri": "https://localhost:8080/"
        },
        "id": "H2dJSgvlz0EK",
        "outputId": "aee9f87b-e8ff-4813-9f8c-695f350b1fc2"
      },
      "execution_count": null,
      "outputs": [
        {
          "output_type": "stream",
          "name": "stdout",
          "text": [
            "0       Supply Quality China's EXCLUSIVE dimensions at...\n",
            "1                              over. SidLet me know. Thx.\n",
            "2       Dear Friend,Greetings to you.I wish to accost ...\n",
            "3       MR. CHEUNG PUIHANG SENG BANK LTD.DES VOEUX RD....\n",
            "4               Not a surprising assessment from Embassy.\n",
            "                              ...                        \n",
            "4840    It has been prepared- ready for your signature...\n",
            "4841                                       And to you too\n",
            "4842     <html><head><style>P{margin:0px;padding:0px}body\n",
            "4843    Robinson talking now voice cracking but resolu...\n",
            "4844    PIR <preines(Wednesday February 10 2010 1:16 P...\n",
            "Name: Text, Length: 4845, dtype: object\n",
            "0       1\n",
            "1       0\n",
            "2       1\n",
            "3       1\n",
            "4       0\n",
            "       ..\n",
            "4840    0\n",
            "4841    0\n",
            "4842    1\n",
            "4843    0\n",
            "4844    0\n",
            "Name: Class, Length: 4845, dtype: int64\n"
          ]
        }
      ]
    },
    {
      "cell_type": "code",
      "source": [
        "# splitiitng the data into training data and test data\n",
        "X_train,X_test,Y_train,Y_test= train_test_split(x,y,test_size=0.2,random_state=3)"
      ],
      "metadata": {
        "id": "DQjns9ab1ZuK"
      },
      "execution_count": null,
      "outputs": []
    },
    {
      "cell_type": "code",
      "source": [
        "print(x.shape)\n",
        "print(X_train.shape)\n",
        "print(X_test.shape)\n"
      ],
      "metadata": {
        "colab": {
          "base_uri": "https://localhost:8080/"
        },
        "id": "25oEuPId4Gw3",
        "outputId": "f53b5fe2-2c95-4ff8-adcb-9485577a7fca"
      },
      "execution_count": null,
      "outputs": [
        {
          "output_type": "stream",
          "name": "stdout",
          "text": [
            "(4845,)\n",
            "(3876,)\n",
            "(969,)\n"
          ]
        }
      ]
    },
    {
      "cell_type": "code",
      "source": [
        "# Feature extraction :-- transform the text data to feature vector that can be used as input to the logistic regression\n",
        "\n",
        "feature_extraction=TfidfVectorizer(min_df=1,stop_words='english')\n",
        "\n",
        "X_train_features=feature_extraction.fit_transform(X_train)\n",
        "X_test_features=feature_extraction.transform(X_test)\n",
        "\n"
      ],
      "metadata": {
        "id": "RpgXXU9G4WQ_"
      },
      "execution_count": null,
      "outputs": []
    },
    {
      "cell_type": "code",
      "source": [
        "print(X_train_features)"
      ],
      "metadata": {
        "colab": {
          "base_uri": "https://localhost:8080/"
        },
        "id": "JdZomGnf4nEy",
        "outputId": "123cd70f-aa93-462a-cae4-5ce296cbb394"
      },
      "execution_count": null,
      "outputs": [
        {
          "output_type": "stream",
          "name": "stdout",
          "text": [
            "  (0, 21264)\t1.0\n",
            "  (1, 42536)\t0.6701696781490512\n",
            "  (1, 40672)\t0.507004856617742\n",
            "  (1, 42126)\t0.542050438479317\n",
            "  (2, 13350)\t0.2266400522498063\n",
            "  (2, 23302)\t0.16596719908873778\n",
            "  (2, 21830)\t0.12412094623087148\n",
            "  (2, 36713)\t0.2215573334925171\n",
            "  (2, 15731)\t0.3273830194125536\n",
            "  (2, 16865)\t0.3273830194125536\n",
            "  (2, 8675)\t0.17385524365014782\n",
            "  (2, 31323)\t0.2995879522106639\n",
            "  (2, 14158)\t0.3273830194125536\n",
            "  (2, 37029)\t0.29340653991442645\n",
            "  (2, 33965)\t0.2533657279276527\n",
            "  (2, 5161)\t0.2439978178068846\n",
            "  (2, 1235)\t0.16342399617695108\n",
            "  (2, 16065)\t0.19328770683944332\n",
            "  (2, 33116)\t0.3436420914306835\n",
            "  (2, 36172)\t0.15200016835475672\n",
            "  (3, 36524)\t0.04871175444318008\n",
            "  (3, 31669)\t0.04809434363551276\n",
            "  (3, 42172)\t0.04809434363551276\n",
            "  (3, 37267)\t0.060808217376109905\n",
            "  (3, 8634)\t0.041359907150422474\n",
            "  :\t:\n",
            "  (3873, 14654)\t0.06536394416155347\n",
            "  (3873, 12315)\t0.32868627167431463\n",
            "  (3873, 14247)\t0.15782410316489723\n",
            "  (3873, 30925)\t0.06426132502984945\n",
            "  (3873, 39239)\t0.04055338852336427\n",
            "  (3873, 23576)\t0.08605654660774611\n",
            "  (3873, 15950)\t0.04967698334206482\n",
            "  (3873, 10310)\t0.04194848202873832\n",
            "  (3873, 21770)\t0.0452654995694172\n",
            "  (3873, 38087)\t0.042006251126003744\n",
            "  (3873, 28288)\t0.11479467935262232\n",
            "  (3873, 40143)\t0.052706149535377514\n",
            "  (3873, 42868)\t0.03393467591457592\n",
            "  (3873, 7222)\t0.03319271014951014\n",
            "  (3873, 42896)\t0.03659694922778743\n",
            "  (3873, 21147)\t0.03514782597926732\n",
            "  (3873, 34314)\t0.07889844846246105\n",
            "  (3873, 4479)\t0.05448520526036086\n",
            "  (3874, 47534)\t0.6721276157622313\n",
            "  (3874, 45563)\t0.4652991417460446\n",
            "  (3874, 43461)\t0.34024728563548234\n",
            "  (3874, 23576)\t0.2631727631011541\n",
            "  (3874, 38139)\t0.3032144177477967\n",
            "  (3874, 28288)\t0.23403861875645132\n",
            "  (3875, 21238)\t1.0\n"
          ]
        }
      ]
    },
    {
      "cell_type": "code",
      "source": [
        "# Trainng the the model\n",
        "# Logistic regression\n",
        "model=LogisticRegression()"
      ],
      "metadata": {
        "id": "4vAoSe1d7bW5"
      },
      "execution_count": null,
      "outputs": []
    },
    {
      "cell_type": "code",
      "source": [
        "# training the Logistic Regression with the traing data\n",
        "model.fit(X_train_features,Y_train)"
      ],
      "metadata": {
        "colab": {
          "base_uri": "https://localhost:8080/",
          "height": 75
        },
        "id": "_8C-cUlF8I4b",
        "outputId": "acca2618-9041-4bb6-ba47-962c01cd35fb"
      },
      "execution_count": null,
      "outputs": [
        {
          "output_type": "execute_result",
          "data": {
            "text/plain": [
              "LogisticRegression()"
            ],
            "text/html": [
              "<style>#sk-container-id-1 {color: black;background-color: white;}#sk-container-id-1 pre{padding: 0;}#sk-container-id-1 div.sk-toggleable {background-color: white;}#sk-container-id-1 label.sk-toggleable__label {cursor: pointer;display: block;width: 100%;margin-bottom: 0;padding: 0.3em;box-sizing: border-box;text-align: center;}#sk-container-id-1 label.sk-toggleable__label-arrow:before {content: \"▸\";float: left;margin-right: 0.25em;color: #696969;}#sk-container-id-1 label.sk-toggleable__label-arrow:hover:before {color: black;}#sk-container-id-1 div.sk-estimator:hover label.sk-toggleable__label-arrow:before {color: black;}#sk-container-id-1 div.sk-toggleable__content {max-height: 0;max-width: 0;overflow: hidden;text-align: left;background-color: #f0f8ff;}#sk-container-id-1 div.sk-toggleable__content pre {margin: 0.2em;color: black;border-radius: 0.25em;background-color: #f0f8ff;}#sk-container-id-1 input.sk-toggleable__control:checked~div.sk-toggleable__content {max-height: 200px;max-width: 100%;overflow: auto;}#sk-container-id-1 input.sk-toggleable__control:checked~label.sk-toggleable__label-arrow:before {content: \"▾\";}#sk-container-id-1 div.sk-estimator input.sk-toggleable__control:checked~label.sk-toggleable__label {background-color: #d4ebff;}#sk-container-id-1 div.sk-label input.sk-toggleable__control:checked~label.sk-toggleable__label {background-color: #d4ebff;}#sk-container-id-1 input.sk-hidden--visually {border: 0;clip: rect(1px 1px 1px 1px);clip: rect(1px, 1px, 1px, 1px);height: 1px;margin: -1px;overflow: hidden;padding: 0;position: absolute;width: 1px;}#sk-container-id-1 div.sk-estimator {font-family: monospace;background-color: #f0f8ff;border: 1px dotted black;border-radius: 0.25em;box-sizing: border-box;margin-bottom: 0.5em;}#sk-container-id-1 div.sk-estimator:hover {background-color: #d4ebff;}#sk-container-id-1 div.sk-parallel-item::after {content: \"\";width: 100%;border-bottom: 1px solid gray;flex-grow: 1;}#sk-container-id-1 div.sk-label:hover label.sk-toggleable__label {background-color: #d4ebff;}#sk-container-id-1 div.sk-serial::before {content: \"\";position: absolute;border-left: 1px solid gray;box-sizing: border-box;top: 0;bottom: 0;left: 50%;z-index: 0;}#sk-container-id-1 div.sk-serial {display: flex;flex-direction: column;align-items: center;background-color: white;padding-right: 0.2em;padding-left: 0.2em;position: relative;}#sk-container-id-1 div.sk-item {position: relative;z-index: 1;}#sk-container-id-1 div.sk-parallel {display: flex;align-items: stretch;justify-content: center;background-color: white;position: relative;}#sk-container-id-1 div.sk-item::before, #sk-container-id-1 div.sk-parallel-item::before {content: \"\";position: absolute;border-left: 1px solid gray;box-sizing: border-box;top: 0;bottom: 0;left: 50%;z-index: -1;}#sk-container-id-1 div.sk-parallel-item {display: flex;flex-direction: column;z-index: 1;position: relative;background-color: white;}#sk-container-id-1 div.sk-parallel-item:first-child::after {align-self: flex-end;width: 50%;}#sk-container-id-1 div.sk-parallel-item:last-child::after {align-self: flex-start;width: 50%;}#sk-container-id-1 div.sk-parallel-item:only-child::after {width: 0;}#sk-container-id-1 div.sk-dashed-wrapped {border: 1px dashed gray;margin: 0 0.4em 0.5em 0.4em;box-sizing: border-box;padding-bottom: 0.4em;background-color: white;}#sk-container-id-1 div.sk-label label {font-family: monospace;font-weight: bold;display: inline-block;line-height: 1.2em;}#sk-container-id-1 div.sk-label-container {text-align: center;}#sk-container-id-1 div.sk-container {/* jupyter's `normalize.less` sets `[hidden] { display: none; }` but bootstrap.min.css set `[hidden] { display: none !important; }` so we also need the `!important` here to be able to override the default hidden behavior on the sphinx rendered scikit-learn.org. See: https://github.com/scikit-learn/scikit-learn/issues/21755 */display: inline-block !important;position: relative;}#sk-container-id-1 div.sk-text-repr-fallback {display: none;}</style><div id=\"sk-container-id-1\" class=\"sk-top-container\"><div class=\"sk-text-repr-fallback\"><pre>LogisticRegression()</pre><b>In a Jupyter environment, please rerun this cell to show the HTML representation or trust the notebook. <br />On GitHub, the HTML representation is unable to render, please try loading this page with nbviewer.org.</b></div><div class=\"sk-container\" hidden><div class=\"sk-item\"><div class=\"sk-estimator sk-toggleable\"><input class=\"sk-toggleable__control sk-hidden--visually\" id=\"sk-estimator-id-1\" type=\"checkbox\" checked><label for=\"sk-estimator-id-1\" class=\"sk-toggleable__label sk-toggleable__label-arrow\">LogisticRegression</label><div class=\"sk-toggleable__content\"><pre>LogisticRegression()</pre></div></div></div></div></div>"
            ]
          },
          "metadata": {},
          "execution_count": 13
        }
      ]
    },
    {
      "cell_type": "code",
      "source": [
        "# prediction on training data\n",
        "\n",
        "prediction_training_data=model.predict(X_train_features)\n",
        "accuracy_on_training_data=accuracy_score(Y_train,prediction_training_data)"
      ],
      "metadata": {
        "id": "4OvFdm0h8Zrg"
      },
      "execution_count": null,
      "outputs": []
    },
    {
      "cell_type": "code",
      "source": [
        "print(\"Accuracy on traing data\",accuracy_on_training_data)"
      ],
      "metadata": {
        "colab": {
          "base_uri": "https://localhost:8080/"
        },
        "id": "IGPke5ce9IeL",
        "outputId": "c6b3e240-4d13-4c22-bd2e-4671cb88b4b2"
      },
      "execution_count": null,
      "outputs": [
        {
          "output_type": "stream",
          "name": "stdout",
          "text": [
            "Accuracy on traing data 0.9827141382868937\n"
          ]
        }
      ]
    },
    {
      "cell_type": "code",
      "source": [
        "# prediction on testing data\n",
        "\n",
        "prediction_test_data=model.predict(X_test_features)\n",
        "accuracy_on_test_data=accuracy_score(Y_test,prediction_test_data)"
      ],
      "metadata": {
        "id": "GR6zh_Gz9WF-"
      },
      "execution_count": null,
      "outputs": []
    },
    {
      "cell_type": "code",
      "source": [
        "print(\"Accuracy on test data\",accuracy_on_test_data)"
      ],
      "metadata": {
        "colab": {
          "base_uri": "https://localhost:8080/"
        },
        "id": "pJqTH6kT9vzG",
        "outputId": "4e4074e2-3d87-4e1c-c05f-a05936217db6"
      },
      "execution_count": null,
      "outputs": [
        {
          "output_type": "stream",
          "name": "stdout",
          "text": [
            "Accuracy on test data 0.9742002063983488\n"
          ]
        }
      ]
    },
    {
      "cell_type": "code",
      "source": [
        "# Building a Predictive System\n",
        "input_mail=['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--qzsoft_directmail_seperator--']\n",
        "# convert text into feature_data\n",
        "input_data_features=feature_extraction.transform(input_mail)\n",
        "# makin prediction\n",
        "prediction=model.predict(input_data_features)\n",
        "print(prediction)\n",
        "\n",
        "if prediction[0]==1:\n",
        "  print(\"Spam mail\")\n",
        "else:\n",
        "  print(\" Not Spam mail\")\n"
      ],
      "metadata": {
        "colab": {
          "base_uri": "https://localhost:8080/"
        },
        "id": "rITz_1dr92Kh",
        "outputId": "7a712f3b-e33a-483d-8767-a9c5f7e854c6"
      },
      "execution_count": null,
      "outputs": [
        {
          "output_type": "stream",
          "name": "stdout",
          "text": [
            "[1]\n",
            "Spam mail\n"
          ]
        }
      ]
    },
    {
      "cell_type": "code",
      "source": [],
      "metadata": {
        "id": "Vf-2knV98Org"
      },
      "execution_count": null,
      "outputs": []
    }
  ],
  "metadata": {
    "colab": {
      "provenance": [],
      "mount_file_id": "18_b7vAHbt8IjAZP_WVc-M3okeV7ly6Di",
      "authorship_tag": "ABX9TyMYuIKYAM2o1+Pj1gA7GLT6",
      "include_colab_link": true
    },
    "kernelspec": {
      "display_name": "Python 3",
      "name": "python3"
    },
    "language_info": {
      "name": "python"
    }
  },
  "nbformat": 4,
  "nbformat_minor": 0
}